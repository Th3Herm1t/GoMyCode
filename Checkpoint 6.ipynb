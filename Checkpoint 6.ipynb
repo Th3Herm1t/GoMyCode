{
 "cells": [
  {
   "cell_type": "markdown",
   "id": "1315be42",
   "metadata": {},
   "source": [
    "# 1. Apply logistic regression."
   ]
  },
  {
   "cell_type": "code",
   "execution_count": 23,
   "id": "af2e3f27",
   "metadata": {},
   "outputs": [
    {
     "name": "stdout",
     "output_type": "stream",
     "text": [
      "Missing values per column:\n",
      " id                   0\n",
      "age                  0\n",
      "education          105\n",
      "sex                  0\n",
      "is_smoking           0\n",
      "cigsPerDay          29\n",
      "BPMeds              53\n",
      "prevalentStroke      0\n",
      "prevalentHyp         0\n",
      "diabetes             0\n",
      "totChol             50\n",
      "sysBP                0\n",
      "diaBP                0\n",
      "BMI                 19\n",
      "heartRate            1\n",
      "glucose            388\n",
      "TenYearCHD         848\n",
      "dtype: int64\n",
      "Missing values per column:\n",
      " id                 0\n",
      "age                0\n",
      "education          0\n",
      "sex                0\n",
      "is_smoking         0\n",
      "cigsPerDay         0\n",
      "BPMeds             0\n",
      "prevalentStroke    0\n",
      "prevalentHyp       0\n",
      "diabetes           0\n",
      "totChol            0\n",
      "sysBP              0\n",
      "diaBP              0\n",
      "BMI                0\n",
      "heartRate          0\n",
      "glucose            0\n",
      "TenYearCHD         0\n",
      "dtype: int64\n"
     ]
    }
   ],
   "source": [
    "import pandas as pd\n",
    "from sklearn.model_selection import train_test_split\n",
    "from sklearn.preprocessing import StandardScaler\n",
    "from sklearn.linear_model import LogisticRegression\n",
    "from sklearn.metrics import accuracy_score, classification_report, confusion_matrix\n",
    "import seaborn as sns\n",
    "from sklearn.metrics import confusion_matrix, accuracy_score, precision_score, recall_score, f1_score\n",
    "from sklearn.metrics import roc_curve, auc\n",
    "import matplotlib.pyplot as plt\n",
    "\n",
    "df = pd.read_csv(r'C:\\Users\\abdel\\Downloads\\logistic_regression_dataset.csv')\n",
    "\n",
    "missing_values = df.isnull().sum()\n",
    "\n",
    "print(\"Missing values per column:\\n\", missing_values)\n",
    "\n",
    "df_cleaned = df.dropna()\n",
    "missing_values = df_cleaned.isnull().sum()\n",
    "\n",
    "print(\"Missing values per column:\\n\", missing_values)"
   ]
  },
  {
   "cell_type": "code",
   "execution_count": 24,
   "id": "d54c6805",
   "metadata": {},
   "outputs": [
    {
     "name": "stdout",
     "output_type": "stream",
     "text": [
      "Encoded dataset:\n",
      "    id  age  education  cigsPerDay  BPMeds  prevalentStroke  prevalentHyp  \\\n",
      "1   1   36        4.0         0.0     0.0                0             1   \n",
      "2   2   46        1.0        10.0     0.0                0             0   \n",
      "3   3   50        1.0        20.0     0.0                0             1   \n",
      "4   4   64        1.0        30.0     0.0                0             0   \n",
      "5   5   61        3.0         0.0     0.0                0             1   \n",
      "\n",
      "   diabetes  totChol  sysBP  diaBP    BMI  heartRate  glucose  TenYearCHD  \\\n",
      "1         0    212.0  168.0   98.0  29.77       72.0     75.0         0.0   \n",
      "2         0    250.0  116.0   71.0  20.35       88.0     94.0         0.0   \n",
      "3         0    233.0  158.0   88.0  28.26       68.0     94.0         1.0   \n",
      "4         0    241.0  136.5   85.0  26.42       70.0     77.0         0.0   \n",
      "5         0    272.0  182.0  121.0  32.80       85.0     65.0         1.0   \n",
      "\n",
      "   sex_M  is_smoking_YES  \n",
      "1   True           False  \n",
      "2  False            True  \n",
      "3   True            True  \n",
      "4  False            True  \n",
      "5  False           False  \n"
     ]
    }
   ],
   "source": [
    "df_encoded = pd.get_dummies(df_cleaned, columns=['sex', 'is_smoking'], drop_first=True)\n",
    "print(\"Encoded dataset:\\n\", df_encoded.head())"
   ]
  },
  {
   "cell_type": "code",
   "execution_count": 25,
   "id": "ddad285c",
   "metadata": {},
   "outputs": [
    {
     "name": "stdout",
     "output_type": "stream",
     "text": [
      "Correlation between TenYearCHD and other variables:\n",
      " TenYearCHD         1.000000\n",
      "age                0.234423\n",
      "sysBP              0.217419\n",
      "prevalentHyp       0.169136\n",
      "diaBP              0.139005\n",
      "glucose            0.133286\n",
      "totChol            0.106473\n",
      "diabetes           0.100006\n",
      "BPMeds             0.092868\n",
      "sex_M              0.081880\n",
      "BMI                0.075950\n",
      "cigsPerDay         0.059797\n",
      "prevalentStroke    0.052014\n",
      "is_smoking_YES     0.033342\n",
      "heartRate          0.018747\n",
      "id                 0.010901\n",
      "education         -0.062442\n",
      "Name: TenYearCHD, dtype: float64\n"
     ]
    }
   ],
   "source": [
    "correlation_matrix = df_encoded.corr()\n",
    "correlation_with_target = correlation_matrix['TenYearCHD'].sort_values(ascending=False)\n",
    "print(\"Correlation between TenYearCHD and other variables:\\n\", correlation_with_target)"
   ]
  },
  {
   "cell_type": "code",
   "execution_count": 30,
   "id": "0263254f",
   "metadata": {},
   "outputs": [],
   "source": [
    "from sklearn.linear_model import LogisticRegression\n",
    "from sklearn.metrics import accuracy_score, classification_report, confusion_matrix\n",
    "\n",
    "selected_features = ['age', 'sysBP', 'prevalentHyp', 'glucose', 'diaBP', 'diabetes']\n",
    "\n",
    "X_selected = df_encoded[selected_features]\n",
    "y_selected = df_encoded['TenYearCHD']\n",
    "\n",
    "X_train_selected, X_test_selected, y_train_selected, y_test_selected = train_test_split(\n",
    "    X_selected, y_selected, test_size=0.2, random_state=42\n",
    ")\n",
    "\n",
    "logreg_model_selected = LogisticRegression(random_state=42)\n",
    "\n",
    "logreg_model_selected.fit(X_train_selected, y_train_selected)\n",
    "\n",
    "y_pred_selected = logreg_model_selected.predict(X_test_selected)"
   ]
  },
  {
   "cell_type": "markdown",
   "id": "d66a9e22",
   "metadata": {},
   "source": [
    "# 2. Use a confusion matrix to validate your model. "
   ]
  },
  {
   "cell_type": "code",
   "execution_count": 31,
   "id": "6d29c7a0",
   "metadata": {},
   "outputs": [
    {
     "name": "stdout",
     "output_type": "stream",
     "text": [
      "Confusion Matrix:\n",
      "[[495   1]\n",
      " [ 87   3]]\n",
      "\n",
      "Metrics:\n",
      "Accuracy: 0.8498\n",
      "Precision: 0.7500\n",
      "Recall: 0.0333\n",
      "F1 Score: 0.0638\n"
     ]
    }
   ],
   "source": [
    "conf_matrix_selected = confusion_matrix(y_test_selected, y_pred_selected)\n",
    "\n",
    "tn, fp, fn, tp = conf_matrix_selected.ravel()\n",
    "\n",
    "accuracy = accuracy_score(y_test_selected, y_pred_selected)\n",
    "precision = precision_score(y_test_selected, y_pred_selected)\n",
    "recall = recall_score(y_test_selected, y_pred_selected)\n",
    "f1 = f1_score(y_test_selected, y_pred_selected)\n",
    "\n",
    "print(\"Confusion Matrix:\")\n",
    "print(conf_matrix_selected)\n",
    "\n",
    "print(\"\\nMetrics:\")\n",
    "print(f\"Accuracy: {accuracy:.4f}\")\n",
    "print(f\"Precision: {precision:.4f}\")\n",
    "print(f\"Recall: {recall:.4f}\")\n",
    "print(f\"F1 Score: {f1:.4f}\")"
   ]
  },
  {
   "cell_type": "markdown",
   "id": "798d2d50",
   "metadata": {},
   "source": [
    "# 3. Another validation matrix for classification is ROC / AUC. Do your research on them, explain them, and apply them in our case."
   ]
  },
  {
   "cell_type": "code",
   "execution_count": 33,
   "id": "4e92ca09",
   "metadata": {},
   "outputs": [
    {
     "data": {
      "image/png": "[encoded data removed]",
      "text/plain": [
       "<Figure size 800x800 with 1 Axes>"
      ]
     },
     "metadata": {},
     "output_type": "display_data"
    }
   ],
   "source": [
    "y_prob_selected = logreg_model_selected.predict_proba(X_test_selected)[:, 1]\n",
    "\n",
    "fpr, tpr, thresholds = roc_curve(y_test_selected, y_prob_selected)\n",
    "\n",
    "roc_auc = auc(fpr, tpr)\n",
    "\n",
    "plt.figure(figsize=(8, 8))\n",
    "plt.plot(fpr, tpr, color='darkorange', lw=2, label=f'AUC = {roc_auc:.2f}')\n",
    "plt.plot([0, 1], [0, 1], color='navy', lw=2, linestyle='--')\n",
    "plt.xlabel('False Positive Rate (1 - Specificity)')\n",
    "plt.ylabel('True Positive Rate (Sensitivity)')\n",
    "plt.title('ROC Curve')\n",
    "plt.legend(loc='lower right')\n",
    "plt.show()\n"
   ]
  },
  {
   "cell_type": "code",
   "execution_count": null,
   "id": "08a083fa",
   "metadata": {},
   "outputs": [],
   "source": []
  },
  {
   "cell_type": "code",
   "execution_count": null,
   "id": "23309d06",
   "metadata": {},
   "outputs": [],
   "source": []
  }
 ],
 "metadata": {
  "kernelspec": {
   "display_name": "Python 3 (ipykernel)",
   "language": "python",
   "name": "python3"
  },
  "language_info": {
   "codemirror_mode": {
    "name": "ipython",
    "version": 3
   },
   "file_extension": ".py",
   "mimetype": "text/x-python",
   "name": "python",
   "nbconvert_exporter": "python",
   "pygments_lexer": "ipython3",
   "version": "3.11.5"
  }
 },
 "nbformat": 4,
 "nbformat_minor": 5
}
